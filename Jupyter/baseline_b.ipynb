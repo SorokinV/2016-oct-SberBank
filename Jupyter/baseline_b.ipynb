{
 "cells": [
  {
   "cell_type": "markdown",
   "metadata": {},
   "source": [
    "# Базовое решение для задачи B"
   ]
  },
  {
   "cell_type": "code",
   "execution_count": null,
   "metadata": {
    "collapsed": true
   },
   "outputs": [],
   "source": [
    "import pandas as pd\n",
    "import numpy as np\n",
    "\n",
    "from sklearn.ensemble import GradientBoostingRegressor, RandomForestRegressor\n",
    "from sklearn.linear_model import LinearRegression"
   ]
  },
  {
   "cell_type": "markdown",
   "metadata": {},
   "source": [
    "Читаем входные файлы с данными"
   ]
  },
  {
   "cell_type": "code",
   "execution_count": null,
   "metadata": {
    "collapsed": true
   },
   "outputs": [],
   "source": [
    "transactions = pd.read_csv('transactions.csv')"
   ]
  },
  {
   "cell_type": "markdown",
   "metadata": {},
   "source": [
    "Берём расходные транзакции и формируем тестовую выборку"
   ]
  },
  {
   "cell_type": "code",
   "execution_count": null,
   "metadata": {
    "collapsed": true
   },
   "outputs": [],
   "source": [
    "train_transactions = transactions[transactions.amount < 0].copy()\n",
    "train_transactions['day'] = train_transactions.tr_datetime.apply(lambda dt: dt.split()[0]).astype(int)"
   ]
  },
  {
   "cell_type": "code",
   "execution_count": null,
   "metadata": {
    "collapsed": true
   },
   "outputs": [],
   "source": [
    "test_transactions = pd.DataFrame(columns=train_transactions.mcc_code.unique(), \n",
    "                                 index=np.arange(1, 31) + train_transactions.day.max())\n",
    "test_transactions = test_transactions.unstack().reset_index().dropna(axis=1)\n",
    "test_transactions.columns = ['mcc_code', 'day']"
   ]
  },
  {
   "cell_type": "code",
   "execution_count": null,
   "metadata": {
    "collapsed": true
   },
   "outputs": [],
   "source": [
    "train_grid = pd.DataFrame(columns=train_transactions.mcc_code.unique(), \n",
    "                          index=train_transactions.day.unique())\n",
    "train_grid = train_grid.unstack().reset_index().dropna(axis=1)\n",
    "train_grid.columns = ['mcc_code', 'day']"
   ]
  },
  {
   "cell_type": "markdown",
   "metadata": {},
   "source": [
    "Добавляем признаки, относящиеся к дате."
   ]
  },
  {
   "cell_type": "code",
   "execution_count": null,
   "metadata": {
    "collapsed": true
   },
   "outputs": [],
   "source": [
    "for tr_table in [train_transactions, test_transactions, train_grid]:\n",
    "    tr_table['week_num'] = tr_table['day'] // 7\n",
    "    tr_table['week_day'] = tr_table['day'] % 7\n",
    "    tr_table['month_num'] = tr_table['day'] // 30\n",
    "    tr_table['month_day'] = tr_table['day'] % 30"
   ]
  },
  {
   "cell_type": "code",
   "execution_count": null,
   "metadata": {
    "collapsed": true
   },
   "outputs": [],
   "source": [
    "train_transactions = \\\n",
    "    pd.merge(train_grid,\n",
    "             train_transactions.groupby(['day', 'week_num', 'week_day', 'month_num', 'month_day', 'mcc_code'])[['amount']]\\\n",
    "                 .sum().reset_index(),\n",
    "             how='left').fillna(0)"
   ]
  },
  {
   "cell_type": "markdown",
   "metadata": {},
   "source": [
    "Для каждого mcc_code получим данные о сумме транзакий за каждый день. Используем для обучения только временные признаки."
   ]
  },
  {
   "cell_type": "code",
   "execution_count": null,
   "metadata": {
    "collapsed": true
   },
   "outputs": [],
   "source": [
    "for day_shift in [-1, 0, 1]:\n",
    "    for month_shift in train_transactions.month_num.unique()[1:]:\n",
    "        train_shift = train_transactions.copy()\n",
    "        train_shift['month_num'] += month_shift\n",
    "        train_shift['month_day'] += day_shift\n",
    "        train_shift['amount_day_{}_{}'.format(day_shift, month_shift)] = np.log(-train_shift['amount'] + 1)\n",
    "        train_shift = train_shift[['month_num', 'month_day', 'mcc_code', 'amount_day_{}_{}'.format(day_shift, month_shift)]]\n",
    "\n",
    "        train_transactions = pd.merge(train_transactions, train_shift, \n",
    "                                      on=['month_num', 'month_day', 'mcc_code'], how='left').fillna(0)\n",
    "        test_transactions = pd.merge(test_transactions, train_shift, \n",
    "                                     on=['month_num', 'month_day', 'mcc_code'], how='left').fillna(0)"
   ]
  },
  {
   "cell_type": "markdown",
   "metadata": {},
   "source": [
    "Обучаемся на всех данных"
   ]
  },
  {
   "cell_type": "code",
   "execution_count": null,
   "metadata": {
    "collapsed": true
   },
   "outputs": [],
   "source": [
    "shift = 500\n",
    "train = pd.get_dummies(train_transactions, columns=['mcc_code'])\n",
    "test = pd.get_dummies(test_transactions, columns=['mcc_code'])\n",
    "c = train.columns.difference(['amount'])\n",
    "\n",
    "clf = LinearRegression()\n",
    "clf.fit(train[c], np.log(-train['amount'] + shift))"
   ]
  },
  {
   "cell_type": "markdown",
   "metadata": {},
   "source": [
    "Предсказываем объём трат для тестовых данных и создаём файл с ответом"
   ]
  },
  {
   "cell_type": "code",
   "execution_count": null,
   "metadata": {
    "collapsed": true
   },
   "outputs": [],
   "source": [
    "test_transactions['volume'] = np.e ** clf.predict(test[c]) - shift\n",
    "test_transactions[['mcc_code', 'day', 'volume']].to_csv('baseline_b.csv', index=False)"
   ]
  }
 ],
 "metadata": {
  "kernelspec": {
   "display_name": "Python 3",
   "language": "python",
   "name": "python3"
  },
  "language_info": {
   "codemirror_mode": {
    "name": "ipython",
    "version": 3
   },
   "file_extension": ".py",
   "mimetype": "text/x-python",
   "name": "python",
   "nbconvert_exporter": "python",
   "pygments_lexer": "ipython3",
   "version": "3.5.1"
  }
 },
 "nbformat": 4,
 "nbformat_minor": 0
}
