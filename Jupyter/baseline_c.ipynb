{
 "cells": [
  {
   "cell_type": "markdown",
   "metadata": {},
   "source": [
    "# Базовое решение для задачи C"
   ]
  },
  {
   "cell_type": "code",
   "execution_count": null,
   "metadata": {
    "collapsed": true
   },
   "outputs": [],
   "source": [
    "import pandas as pd\n",
    "import numpy as np\n",
    "\n",
    "from sklearn.feature_extraction import FeatureHasher\n",
    "from sklearn.linear_model import LinearRegression\n",
    "from scipy import sparse"
   ]
  },
  {
   "cell_type": "markdown",
   "metadata": {},
   "source": [
    "Читаем входные файлы с данными"
   ]
  },
  {
   "cell_type": "code",
   "execution_count": null,
   "metadata": {
    "collapsed": true
   },
   "outputs": [],
   "source": [
    "transactions = pd.read_csv('transactions.csv')\n",
    "customers_gender = pd.read_csv('customers_gender_train.csv')"
   ]
  },
  {
   "cell_type": "markdown",
   "metadata": {},
   "source": [
    "Берём расходные транзакции и формируем тестовую выборку"
   ]
  },
  {
   "cell_type": "code",
   "execution_count": null,
   "metadata": {
    "collapsed": true
   },
   "outputs": [],
   "source": [
    "train_transactions = transactions[transactions.amount < 0].copy()\n",
    "train_transactions['day'] = train_transactions.tr_datetime.apply(lambda dt: dt.split()[0]).astype(int)"
   ]
  },
  {
   "cell_type": "code",
   "execution_count": null,
   "metadata": {
    "collapsed": true
   },
   "outputs": [],
   "source": [
    "test_transactions = \\\n",
    "    pd.DataFrame(columns=set(transactions.customer_id.unique().tolist()).difference(customers_gender.customer_id.unique()),\n",
    "                 index=train_transactions.mcc_code.unique())\n",
    "test_transactions = test_transactions.unstack().reset_index().dropna(axis=1)\n",
    "\n",
    "train_grid = pd.DataFrame(columns=transactions.customer_id.unique(), index=train_transactions.mcc_code.unique())\n",
    "train_grid = train_grid.unstack().reset_index().dropna(axis=1)"
   ]
  },
  {
   "cell_type": "markdown",
   "metadata": {},
   "source": [
    "Добавляем признаки, относящиеся к дате."
   ]
  },
  {
   "cell_type": "code",
   "execution_count": null,
   "metadata": {
    "collapsed": true
   },
   "outputs": [],
   "source": [
    "for tr_table in [train_grid, test_transactions]:\n",
    "    tr_table.columns = ['customer_id', 'mcc_code']\n",
    "    tr_table['month_num'] = (train_transactions.day.max() + 15) // 30\n",
    "    tr_table['year_num'] = (train_transactions.day.max() + 15) // 365\n",
    "\n",
    "train_transactions['month_num'] = train_transactions.day // 30\n",
    "train_transactions['year_num'] = train_transactions.day // 365"
   ]
  },
  {
   "cell_type": "code",
   "execution_count": null,
   "metadata": {
    "collapsed": true
   },
   "outputs": [],
   "source": [
    "train_transactions = \\\n",
    "    pd.merge(train_grid,\n",
    "             train_transactions.groupby(['year_num', 'month_num', 'customer_id', 'mcc_code'])[['amount']].sum().reset_index(),\n",
    "             how='left').fillna(0)"
   ]
  },
  {
   "cell_type": "code",
   "execution_count": null,
   "metadata": {
    "collapsed": true
   },
   "outputs": [],
   "source": [
    "for month_shift in range(1, 5):\n",
    "    train_shift = train_transactions.copy()\n",
    "    train_shift['month_num'] = train_shift['month_num'] + month_shift\n",
    "    train_shift = train_shift.rename(columns={\"amount\" : 'amount_{0}'.format(month_shift)})  \n",
    "    train_shift = train_shift[['year_num', 'month_num', 'customer_id', 'mcc_code', 'amount_{0}'.format(month_shift)]]\n",
    "\n",
    "    train_transactions = pd.merge(train_transactions, train_shift, \n",
    "                                  on=['year_num', 'month_num', 'customer_id', 'mcc_code'], how='left').fillna(0)\n",
    "    test_transactions = pd.merge(test_transactions, train_shift, \n",
    "                                 on=['year_num', 'month_num', 'customer_id', 'mcc_code'], how='left').fillna(0)"
   ]
  },
  {
   "cell_type": "code",
   "execution_count": null,
   "metadata": {
    "collapsed": true
   },
   "outputs": [],
   "source": [
    "for shift in range(1, 4):\n",
    "    train_transactions['diff_{}_{}'.format(shift, shift + 1)] = \\\n",
    "        train_transactions['amount_{}'.format(shift)] - train_transactions['amount_{}'.format(shift + 1)]\n",
    "    test_transactions['diff_{}_{}'.format(shift, shift + 1)] = \\\n",
    "        test_transactions['amount_{}'.format(shift)] - test_transactions['amount_{}'.format(shift + 1)]    "
   ]
  },
  {
   "cell_type": "code",
   "execution_count": null,
   "metadata": {
    "collapsed": true
   },
   "outputs": [],
   "source": [
    "hasher = FeatureHasher(n_features=100000, input_type='string')\n",
    "train_sparse = \\\n",
    "    hasher.fit_transform(train_transactions[['year_num', 'month_num', 'customer_id', 'mcc_code']].astype(str).as_matrix())"
   ]
  },
  {
   "cell_type": "code",
   "execution_count": null,
   "metadata": {
    "collapsed": true
   },
   "outputs": [],
   "source": [
    "test_sparse = \\\n",
    "    hasher.transform(test_transactions[['year_num', 'month_num', 'customer_id', 'mcc_code']].astype(str).as_matrix())"
   ]
  },
  {
   "cell_type": "code",
   "execution_count": null,
   "metadata": {
    "collapsed": true
   },
   "outputs": [],
   "source": [
    "train_sparse = sparse.hstack([train_sparse,\n",
    "                              np.log(np.abs(train_transactions[['amount_1', 'amount_2', 'amount_3', 'amount_3',\n",
    "                                                                'diff_1_2',  'diff_2_3',  'diff_3_4']]) + 1).as_matrix()\n",
    "                             ])\n",
    "\n",
    "test_sparse = sparse.hstack([test_sparse,\n",
    "                             np.log(np.abs(test_transactions[['amount_1', 'amount_2', 'amount_3', 'amount_3',\n",
    "                                                              'diff_1_2',  'diff_2_3',  'diff_3_4']]) + 1).as_matrix()\n",
    "                            ])"
   ]
  },
  {
   "cell_type": "markdown",
   "metadata": {},
   "source": [
    "Обучаемся на всех данных"
   ]
  },
  {
   "cell_type": "code",
   "execution_count": null,
   "metadata": {
    "collapsed": true
   },
   "outputs": [],
   "source": [
    "shift = 1\n",
    "clf = LinearRegression()\n",
    "clf.fit(train_sparse, np.log(-train_transactions['amount'] + shift))"
   ]
  },
  {
   "cell_type": "markdown",
   "metadata": {},
   "source": [
    "Предсказываем объём трат для тестовых данных и создаём файл с ответом"
   ]
  },
  {
   "cell_type": "code",
   "execution_count": null,
   "metadata": {
    "collapsed": true
   },
   "outputs": [],
   "source": [
    "test_transactions['volume'] = np.e ** clf.predict(test_sparse) - shift\n",
    "test_transactions[['customer_id', 'mcc_code', 'volume']].to_csv('baseline_c.csv', index=False)"
   ]
  }
 ],
 "metadata": {
  "kernelspec": {
   "display_name": "Python 3",
   "language": "python",
   "name": "python3"
  },
  "language_info": {
   "codemirror_mode": {
    "name": "ipython",
    "version": 3
   },
   "file_extension": ".py",
   "mimetype": "text/x-python",
   "name": "python",
   "nbconvert_exporter": "python",
   "pygments_lexer": "ipython3",
   "version": "3.5.1"
  }
 },
 "nbformat": 4,
 "nbformat_minor": 0
}
